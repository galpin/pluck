{
 "cells": [
  {
   "cell_type": "code",
   "execution_count": 2,
   "metadata": {},
   "outputs": [],
   "source": [
    "import sys; sys.path.append('../src')\n",
    "\n",
    "def dump(df):\n",
    "    print(df.to_markdown(index=False))"
   ]
  },
  {
   "cell_type": "markdown",
   "metadata": {},
   "source": [
    "# Pluck 🚀 🍊\n",
    "\n",
    "![PyPI](https://img.shields.io/pypi/v/pluck-graphql) ![GitHub](https://img.shields.io/github/license/galpin/pluck)\n",
    "\n",
    "Pluck is a GraphQL client that transforms queries into Pandas data-frames.\n",
    "\n",
    "## Installation\n",
    "\n",
    "Install Pluck from [PyPi](https://pypi.org/project/pluck-graphql/):\n",
    "\n",
    "```bash\n",
    "pip install pluck-graphql\n",
    "```\n",
    "\n",
    "## Introduction\n",
    "\n",
    "The easiest way to get started is to use `pluck.execute` to execute a query.\n",
    "\n",
    "Let's read the first five SpaceX launches into a data-frame:"
   ]
  },
  {
   "cell_type": "code",
   "execution_count": 3,
   "metadata": {},
   "outputs": [
    {
     "name": "stdout",
     "output_type": "stream",
     "text": [
      "| launches.mission_name   | launches.launch_date_local   | launches.rocket.rocket_name   |\n",
      "|:------------------------|:-----------------------------|:------------------------------|\n",
      "| FalconSat               | 2006-03-25T10:30:00+12:00    | Falcon 1                      |\n",
      "| DemoSat                 | 2007-03-21T13:10:00+12:00    | Falcon 1                      |\n",
      "| Trailblazer             | 2008-08-03T15:34:00+12:00    | Falcon 1                      |\n",
      "| RatSat                  | 2008-09-28T11:15:00+12:00    | Falcon 1                      |\n",
      "| RazakSat                | 2009-07-13T15:35:00+12:00    | Falcon 1                      |\n"
     ]
    }
   ],
   "source": [
    "import pluck\n",
    "\n",
    "SpaceX = \"https://main--spacex-l4uc6p.apollographos.net/graphql\"\n",
    "\n",
    "query = \"\"\"\n",
    "{\n",
    "  launches(limit: 5) {\n",
    "    mission_name\n",
    "    launch_date_local\n",
    "    rocket {\n",
    "      rocket_name\n",
    "    }\n",
    "  }\n",
    "}\n",
    "\"\"\"\n",
    "frame, = pluck.execute(query, url=SpaceX)\n",
    "dump(frame)"
   ]
  },
  {
   "cell_type": "markdown",
   "metadata": {},
   "source": [
    "### Implicit Mode\n",
    "\n",
    "The query above uses _implicit mode_. This is where the entire response is normalized into a single data-frame.\n",
    "\n",
    "The return value from `execute` is an instance of `pluck.Response`. This object is _iterable_ and enumerates the data-frames in the query. Because this query uses _implicit mode_, the iterator contains only a single data-frame (note that the trailing comma is still required).\n",
    "\n",
    "### @frame directive\n",
    "\n",
    "But Pluck is more powerful than _implicit mode_ because it provides a custom `@frame` directive.\n",
    "\n",
    "The `@frame` directive specifies portions of the GraphQL response that we want to transform into data-frames. The directive is removed before the query is sent to the GraphQL server.\n",
    "\n",
    "Using the same query, rather than use implicit mode, let's pluck the `launches` field from the response:"
   ]
  },
  {
   "cell_type": "code",
   "execution_count": 4,
   "metadata": {},
   "outputs": [
    {
     "name": "stdout",
     "output_type": "stream",
     "text": [
      "| mission_name   | launch_date_local         | rocket.rocket_name   |\n",
      "|:---------------|:--------------------------|:---------------------|\n",
      "| FalconSat      | 2006-03-25T10:30:00+12:00 | Falcon 1             |\n",
      "| DemoSat        | 2007-03-21T13:10:00+12:00 | Falcon 1             |\n",
      "| Trailblazer    | 2008-08-03T15:34:00+12:00 | Falcon 1             |\n",
      "| RatSat         | 2008-09-28T11:15:00+12:00 | Falcon 1             |\n",
      "| RazakSat       | 2009-07-13T15:35:00+12:00 | Falcon 1             |\n"
     ]
    }
   ],
   "source": [
    "query = \"\"\"\n",
    "{\n",
    "  launches(limit: 5) @frame {\n",
    "    mission_name\n",
    "    launch_date_local\n",
    "    rocket {\n",
    "      rocket_name\n",
    "    }\n",
    "  }\n",
    "}\n",
    "\"\"\"\n",
    "launches, = pluck.execute(query, url=SpaceX)\n",
    "dump(launches)"
   ]
  },
  {
   "cell_type": "markdown",
   "metadata": {},
   "source": [
    "The column names are no longer prefixed with `launches` because it is now the root of the data-frame.\n",
    "\n",
    "### Multiple @frame directives\n",
    "\n",
    "We can also pluck multiple data-frames from a single GraphQL query.\n",
    "\n",
    "Let's query the first five SpaceX `rockets` as well: "
   ]
  },
  {
   "cell_type": "code",
   "execution_count": 5,
   "metadata": {},
   "outputs": [],
   "source": [
    "query = \"\"\"\n",
    "{\n",
    "  launches(limit: 5) @frame {\n",
    "    mission_name\n",
    "    launch_date_local\n",
    "    rocket {\n",
    "      rocket_name\n",
    "    }\n",
    "  }\n",
    "  rockets(limit: 5) @frame {\n",
    "    name\n",
    "    type\n",
    "    company\n",
    "    height {\n",
    "      meters\n",
    "    }\n",
    "    mass {\n",
    "      kg\n",
    "    }\n",
    "  }\n",
    "}\n",
    "\"\"\"\n",
    "launches, rockets = pluck.execute(query, url=SpaceX)"
   ]
  },
  {
   "cell_type": "markdown",
   "metadata": {},
   "source": [
    "Now we have the original `launches` and a new `rockets` data-frame:"
   ]
  },
  {
   "cell_type": "code",
   "execution_count": 6,
   "metadata": {},
   "outputs": [
    {
     "name": "stdout",
     "output_type": "stream",
     "text": [
      "| name         | type   | company   |   height.meters |   mass.kg |\n",
      "|:-------------|:-------|:----------|----------------:|----------:|\n",
      "| Falcon 1     | rocket | SpaceX    |           22.25 |     30146 |\n",
      "| Falcon 9     | rocket | SpaceX    |           70    |    549054 |\n",
      "| Falcon Heavy | rocket | SpaceX    |           70    |   1420788 |\n",
      "| Starship     | rocket | SpaceX    |          118    |   1335000 |\n"
     ]
    }
   ],
   "source": [
    "dump(rockets)"
   ]
  },
  {
   "cell_type": "markdown",
   "metadata": {},
   "source": [
    "### Lists\n",
    "\n",
    "When a response includes a list, the data-frame is automatically expanded to include one row per item in the list. This is repeated for every subsequent list in the response.\n",
    "\n",
    "For example, let's query the first five `rockets` and their `payload_weights`:"
   ]
  },
  {
   "cell_type": "code",
   "execution_count": 20,
   "metadata": {},
   "outputs": [
    {
     "name": "stdout",
     "output_type": "stream",
     "text": [
      "| id                       | type   | name         | payload_weights.name          |   payload_weights.kg |\n",
      "|:-------------------------|:-------|:-------------|:------------------------------|---------------------:|\n",
      "| 5e9d0d95eda69955f709d1eb | rocket | Falcon 1     | Low Earth Orbit               |                  450 |\n",
      "| 5e9d0d95eda69973a809d1ec | rocket | Falcon 9     | Low Earth Orbit               |                22800 |\n",
      "| 5e9d0d95eda69973a809d1ec | rocket | Falcon 9     | Geosynchronous Transfer Orbit |                 8300 |\n",
      "| 5e9d0d95eda69973a809d1ec | rocket | Falcon 9     | Mars Orbit                    |                 4020 |\n",
      "| 5e9d0d95eda69974db09d1ed | rocket | Falcon Heavy | Low Earth Orbit               |                63800 |\n",
      "| 5e9d0d95eda69974db09d1ed | rocket | Falcon Heavy | Geosynchronous Transfer Orbit |                26700 |\n",
      "| 5e9d0d95eda69974db09d1ed | rocket | Falcon Heavy | Mars Orbit                    |                16800 |\n",
      "| 5e9d0d95eda69974db09d1ed | rocket | Falcon Heavy | Pluto Orbit                   |                 3500 |\n",
      "| 5e9d0d96eda699382d09d1ee | rocket | Starship     | Low Earth Orbit               |               150000 |\n",
      "| 5e9d0d96eda699382d09d1ee | rocket | Starship     | Mars Orbit                    |               100000 |\n",
      "| 5e9d0d96eda699382d09d1ee | rocket | Starship     | Moon Orbit                    |               100000 |\n"
     ]
    }
   ],
   "source": [
    "query = \"\"\"\n",
    "{\n",
    "  rockets(limit: 5) @frame {\n",
    "    id\n",
    "    type\n",
    "    name\n",
    "    payload_weights {\n",
    "      name\n",
    "      kg\n",
    "    }\n",
    "  }\n",
    "}\n",
    "\"\"\"\n",
    "rockets, = pluck.execute(query, url=SpaceX)\n",
    "dump(rockets)"
   ]
  },
  {
   "cell_type": "markdown",
   "metadata": {},
   "source": [
    "Rather than five rows, we have 11; each row contains a rocket and it's payload."
   ]
  },
  {
   "cell_type": "markdown",
   "metadata": {},
   "source": [
    "### Nested @frame directives\n",
    "\n",
    "Frames can also be nested and if a nested `@frame` is within a list, the rows are combined into a single data-frame.\n",
    "\n",
    "For example, we can pluck the top five `rockets` and `engines`:"
   ]
  },
  {
   "cell_type": "code",
   "execution_count": 27,
   "metadata": {},
   "outputs": [],
   "source": [
    "query = \"\"\"\n",
    "{\n",
    "  rockets(limit: 5) @frame {\n",
    "    id\n",
    "    type\n",
    "    name\n",
    "    engines @frame {\n",
    "      number\n",
    "      type\n",
    "      version\n",
    "    }\n",
    "  }\n",
    "}\n",
    "\"\"\"\n",
    "rockets, engines = pluck.execute(query, url=SpaceX)"
   ]
  },
  {
   "cell_type": "markdown",
   "metadata": {},
   "source": [
    "Now we have the `rockets`:"
   ]
  },
  {
   "cell_type": "code",
   "execution_count": 28,
   "metadata": {},
   "outputs": [
    {
     "name": "stdout",
     "output_type": "stream",
     "text": [
      "| id                       | type   | name         |   engines.number | engines.type   | engines.version   |\n",
      "|:-------------------------|:-------|:-------------|-----------------:|:---------------|:------------------|\n",
      "| 5e9d0d95eda69955f709d1eb | rocket | Falcon 1     |                1 | merlin         | 1C                |\n",
      "| 5e9d0d95eda69973a809d1ec | rocket | Falcon 9     |                9 | merlin         | 1D+               |\n",
      "| 5e9d0d95eda69974db09d1ed | rocket | Falcon Heavy |               27 | merlin         | 1D+               |\n",
      "| 5e9d0d96eda699382d09d1ee | rocket | Starship     |               37 | raptor         |                   |\n"
     ]
    }
   ],
   "source": [
    "dump(rockets)"
   ]
  },
  {
   "cell_type": "markdown",
   "metadata": {},
   "source": [
    "And we also have the `engines` data-frame that has been combined from every item in `rockets`:"
   ]
  },
  {
   "cell_type": "code",
   "execution_count": 29,
   "metadata": {},
   "outputs": [
    {
     "name": "stdout",
     "output_type": "stream",
     "text": [
      "|   number | type   | version   |\n",
      "|---------:|:-------|:----------|\n",
      "|        1 | merlin | 1C        |\n",
      "|        9 | merlin | 1D+       |\n",
      "|       27 | merlin | 1D+       |\n",
      "|       37 | raptor |           |\n"
     ]
    }
   ],
   "source": [
    "dump(engines)"
   ]
  },
  {
   "cell_type": "markdown",
   "metadata": {},
   "source": [
    "### Aliases\n",
    "\n",
    "Column names can be modified using normal GraphQL aliases.\n",
    "\n",
    "For example, let's tidy-up the field names in the `launches` data-frame:"
   ]
  },
  {
   "cell_type": "code",
   "execution_count": 30,
   "metadata": {},
   "outputs": [
    {
     "name": "stdout",
     "output_type": "stream",
     "text": [
      "| mission     | launch_date               | rocket.name   |\n",
      "|:------------|:--------------------------|:--------------|\n",
      "| FalconSat   | 2006-03-25T10:30:00+12:00 | Falcon 1      |\n",
      "| DemoSat     | 2007-03-21T13:10:00+12:00 | Falcon 1      |\n",
      "| Trailblazer | 2008-08-03T15:34:00+12:00 | Falcon 1      |\n",
      "| RatSat      | 2008-09-28T11:15:00+12:00 | Falcon 1      |\n",
      "| RazakSat    | 2009-07-13T15:35:00+12:00 | Falcon 1      |\n"
     ]
    }
   ],
   "source": [
    "query = \"\"\"\n",
    "{\n",
    "  launches(limit: 5) @frame {\n",
    "    mission: mission_name\n",
    "    launch_date: launch_date_local\n",
    "    rocket {\n",
    "      name: rocket_name\n",
    "    }\n",
    "  }\n",
    "}\n",
    "\"\"\"\n",
    "launches, = pluck.execute(query, url=SpaceX)\n",
    "dump(launches)"
   ]
  },
  {
   "cell_type": "markdown",
   "metadata": {},
   "source": [
    "### Column names\n",
    "\n",
    "Column are named according to the JSON path of the element in the response.\n",
    "\n",
    "However, we can use a different naming strategy by specifying `column_names` to `execute`.\n",
    "\n",
    "For example, let's use `short` for the column names:"
   ]
  },
  {
   "cell_type": "code",
   "execution_count": 12,
   "metadata": {},
   "outputs": [
    {
     "name": "stdout",
     "output_type": "stream",
     "text": [
      "| name        | launch_date               | rocket   |\n",
      "|:------------|:--------------------------|:---------|\n",
      "| FalconSat   | 2006-03-25T10:30:00+12:00 | Falcon 1 |\n",
      "| DemoSat     | 2007-03-21T13:10:00+12:00 | Falcon 1 |\n",
      "| Trailblazer | 2008-08-03T15:34:00+12:00 | Falcon 1 |\n",
      "| RatSat      | 2008-09-28T11:15:00+12:00 | Falcon 1 |\n",
      "| RazakSat    | 2009-07-13T15:35:00+12:00 | Falcon 1 |\n"
     ]
    }
   ],
   "source": [
    "query = \"\"\"\n",
    "{\n",
    "  launches: launches(limit: 5) @frame {\n",
    "    name: mission_name\n",
    "    launch_date: launch_date_local\n",
    "    rocket {\n",
    "      rocket: rocket_name\n",
    "    }\n",
    "  }\n",
    "}\n",
    "\"\"\"\n",
    "launches, = pluck.execute(query, column_names=\"short\", url=SpaceX)\n",
    "dump(launches)"
   ]
  },
  {
   "cell_type": "markdown",
   "metadata": {},
   "source": [
    "If the short column name results in a conflict (two or more columns with the same name), the conflict is resolved by\n",
    "prefixing the name with the name of it's parent.\n",
    "\n",
    "The naming strategy can also be changed per data-frame by specifying a `dict[str, str]` where the key is name of the\n",
    "data-frame."
   ]
  },
  {
   "cell_type": "markdown",
   "metadata": {},
   "source": [
    "### Leaf fields\n",
    "\n",
    "The `@frame` directive can also be used on leaf fields.\n",
    "\n",
    "For example, we can extract only the name of the mission from past launches:"
   ]
  },
  {
   "cell_type": "code",
   "execution_count": 13,
   "metadata": {},
   "outputs": [
    {
     "name": "stdout",
     "output_type": "stream",
     "text": [
      "| mission     |\n",
      "|:------------|\n",
      "| FalconSat   |\n",
      "| DemoSat     |\n",
      "| Trailblazer |\n",
      "| RatSat      |\n",
      "| RazakSat    |\n"
     ]
    }
   ],
   "source": [
    "query = \"\"\"\n",
    "{\n",
    "  launchesPast(limit: 5) {\n",
    "    mission: mission_name @frame\n",
    "  }\n",
    "}\n",
    "\"\"\"\n",
    "launches, = pluck.execute(query, url=SpaceX)\n",
    "dump(launches)"
   ]
  },
  {
   "cell_type": "markdown",
   "metadata": {},
   "source": [
    "### Responses\n",
    "\n",
    "Most of the time, Pluck is used to transform the GraphQL query directly into one or more data-frames. However, it is also possible to retreive the the raw GraphQL response (as well as the data-frames) by not immeadiately iterating over the return value.\n",
    "\n",
    "The return value is a `pluck.Response` object and contains the `data` and `errors` from the raw GraphQL response and map of `Dict[str, DataFrame]` containing each data-frame in the query. The name of the frame corresponds to the field on which the `@frame` directive is placed or `default` when using implicit mode."
   ]
  },
  {
   "cell_type": "code",
   "execution_count": 43,
   "metadata": {},
   "outputs": [
    {
     "name": "stdout",
     "output_type": "stream",
     "text": [
      "| id                       | mission_name   | rocket.rocket_name   |\n",
      "|:-------------------------|:---------------|:---------------------|\n",
      "| 5eb87cd9ffd86e000604b32a | FalconSat      | Falcon 1             |\n",
      "| 5eb87cdaffd86e000604b32b | DemoSat        | Falcon 1             |\n",
      "| 5eb87cdbffd86e000604b32c | Trailblazer    | Falcon 1             |\n",
      "| 5eb87cdbffd86e000604b32d | RatSat         | Falcon 1             |\n",
      "| 5eb87cdcffd86e000604b32e | RazakSat       | Falcon 1             |\n",
      "\n",
      "| id                       | full_name                     | wikipedia                                                                                |\n",
      "|:-------------------------|:------------------------------|:-----------------------------------------------------------------------------------------|\n",
      "| 5e9e3032383ecb267a34e7c7 | Landing Zone 1                | https://en.wikipedia.org/wiki/Landing_Zones_1_and_2                                      |\n",
      "| 5e9e3032383ecb90a834e7c8 | Landing Zone 2                | https://en.wikipedia.org/wiki/Landing_Zones_1_and_2                                      |\n",
      "| 5e9e3032383ecb554034e7c9 | Landing Zone 4                | https://en.wikipedia.org/wiki/Vandenberg_AFB_Space_Launch_Complex_4#LZ-4_landing_history |\n",
      "| 5e9e3032383ecb6bb234e7ca | Of Course I Still Love You    | https://en.wikipedia.org/wiki/Autonomous_spaceport_drone_ship                            |\n",
      "| 5e9e3032383ecb761634e7cb | Just Read The Instructions V1 | https://en.wikipedia.org/wiki/Autonomous_spaceport_drone_ship                            |\n"
     ]
    }
   ],
   "source": [
    "query = \"\"\"\n",
    "{\n",
    "  launches(limit: 5) @frame {\n",
    "    id\n",
    "    mission_name\n",
    "    rocket {\n",
    "      rocket_name\n",
    "    }\n",
    "  }\n",
    "  landpads(limit: 5) @frame {\n",
    "    id\n",
    "    full_name\n",
    "    wikipedia\n",
    "  }\n",
    "}\n",
    "\"\"\"\n",
    "response = pluck.execute(query, url=SpaceX)\n",
    "\n",
    "# print(response.data.keys())\n",
    "# print(response.errors)\n",
    "# print(response.frames.keys())\n",
    "\n",
    "launches, landpads = response\n",
    "dump(launches)\n",
    "print()\n",
    "dump(landpads)"
   ]
  },
  {
   "cell_type": "markdown",
   "metadata": {},
   "source": [
    "### pluck.create\n",
    "\n",
    "Pluck also provides a `create` factory function which returns a customized `execute` function which closes over the `url` and other configuration."
   ]
  },
  {
   "cell_type": "code",
   "execution_count": 42,
   "metadata": {},
   "outputs": [
    {
     "name": "stdout",
     "output_type": "stream",
     "text": [
      "| id                       | mission_name   | rocket.rocket_name   |\n",
      "|:-------------------------|:---------------|:---------------------|\n",
      "| 5eb87cd9ffd86e000604b32a | FalconSat      | Falcon 1             |\n",
      "| 5eb87cdaffd86e000604b32b | DemoSat        | Falcon 1             |\n",
      "| 5eb87cdbffd86e000604b32c | Trailblazer    | Falcon 1             |\n",
      "| 5eb87cdbffd86e000604b32d | RatSat         | Falcon 1             |\n",
      "| 5eb87cdcffd86e000604b32e | RazakSat       | Falcon 1             |\n"
     ]
    }
   ],
   "source": [
    "execute = pluck.create(url=SpaceX)\n",
    "\n",
    "query = \"\"\"\n",
    "{\n",
    "  launches(limit: 5) @frame {\n",
    "    id\n",
    "    mission_name\n",
    "    rocket {\n",
    "      rocket_name\n",
    "    }\n",
    "  }\n",
    "}\n",
    "\"\"\"\n",
    "launches, = execute(query)\n",
    "dump(launches)"
   ]
  }
 ],
 "metadata": {
  "interpreter": {
   "hash": "21a95c6bcb362342a54a9a1b45d0fa24a1c0b1129c9cbb09db5dc8392645075c"
  },
  "kernelspec": {
   "display_name": "Python 3 (ipykernel)",
   "language": "python",
   "name": "python3"
  },
  "language_info": {
   "codemirror_mode": {
    "name": "ipython",
    "version": 3
   },
   "file_extension": ".py",
   "mimetype": "text/x-python",
   "name": "python",
   "nbconvert_exporter": "python",
   "pygments_lexer": "ipython3",
   "version": "3.10.9"
  }
 },
 "nbformat": 4,
 "nbformat_minor": 4
}
