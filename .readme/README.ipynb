{
 "cells": [
  {
   "cell_type": "code",
   "execution_count": null,
   "metadata": {},
   "outputs": [],
   "source": [
    "import sys; sys.path.append('../src')\n",
    "\n",
    "def dump(df):\n",
    "    print(df.to_markdown(index=False))"
   ]
  },
  {
   "cell_type": "markdown",
   "metadata": {},
   "source": [
    "# Pluck 🚀 🍊\n",
    "\n",
    "![PyPI](https://img.shields.io/pypi/v/pluck-graphql) ![GitHub](https://img.shields.io/github/license/galpin/pluck)\n",
    "\n",
    "Pluck is a GraphQL client that transforms queries into Pandas data-frames.\n",
    "\n",
    "## Installation\n",
    "\n",
    "Install Pluck from [PyPi](https://pypi.org/project/pluck-graphql/):\n",
    "\n",
    "```bash\n",
    "pip install pluck-graphql\n",
    "```\n",
    "\n",
    "## Introduction\n",
    "\n",
    "The easiest way to get started is to use `pluck.read_graphql` to execute a query.\n",
    "\n",
    "Let's read the first five SpaceX launches into a data-frame:"
   ]
  },
  {
   "cell_type": "code",
   "execution_count": null,
   "metadata": {},
   "outputs": [],
   "source": [
    "import pluck\n",
    "\n",
    "SpaceX = \"https://api.spacex.land/graphql\"\n",
    "\n",
    "query = \"\"\"\n",
    "{\n",
    "  launches(limit: 5) {\n",
    "    mission_name\n",
    "    launch_date_local\n",
    "    rocket {\n",
    "      rocket_name\n",
    "    }\n",
    "  }\n",
    "}\n",
    "\"\"\"\n",
    "frame, = pluck.read_graphql(query, url=SpaceX)\n",
    "dump(frame)"
   ]
  },
  {
   "cell_type": "markdown",
   "metadata": {},
   "source": [
    "### Implicit Mode\n",
    "\n",
    "The query above uses _implicit mode_. This is where the entire response is normalized into a single data-frame.\n",
    "\n",
    "The return value from `read_graphql` is an instance of `pluck.Response`. This object is _iterable_ and enumerates the data-frames in the query. Because this query uses _implicit mode_, the iterator contains only a single data-frame (note that the trailing comma is still required).\n",
    "\n",
    "### @frame directive\n",
    "\n",
    "But Pluck is more powerful than _implicit mode_ because it provides a custom `@frame` directive.\n",
    "\n",
    "The `@frame` directive specifies portions of the GraphQL response that we want to transform into data-frames. The directive is removed before the query is sent to the GraphQL server.\n",
    "\n",
    "Using the same query, rather than use implicit mode, let's pluck the `launches` field from the response:"
   ]
  },
  {
   "cell_type": "code",
   "execution_count": null,
   "metadata": {},
   "outputs": [],
   "source": [
    "query = \"\"\"\n",
    "{\n",
    "  launches(limit: 5) @frame {\n",
    "    mission_name\n",
    "    launch_date_local\n",
    "    rocket {\n",
    "      rocket_name\n",
    "    }\n",
    "  }\n",
    "}\n",
    "\"\"\"\n",
    "launches, = pluck.read_graphql(query, url=SpaceX)\n",
    "dump(launches)"
   ]
  },
  {
   "cell_type": "markdown",
   "metadata": {},
   "source": [
    "The column names are no longer prefixed with `launches` because it is now the root of the data-frame.\n",
    "\n",
    "### Multiple @frame directives\n",
    "\n",
    "We can also pluck multiple data-frames from a single GraphQL query.\n",
    "\n",
    "Let's query the first five SpaceX `rockets` as well: "
   ]
  },
  {
   "cell_type": "code",
   "execution_count": null,
   "metadata": {},
   "outputs": [],
   "source": [
    "query = \"\"\"\n",
    "{\n",
    "  launches(limit: 5) @frame {\n",
    "    mission_name\n",
    "    launch_date_local\n",
    "    rocket {\n",
    "      rocket_name\n",
    "    }\n",
    "  }\n",
    "  rockets(limit: 5) @frame {\n",
    "    name\n",
    "    type\n",
    "    company\n",
    "    height {\n",
    "      meters\n",
    "    }\n",
    "    mass {\n",
    "      kg\n",
    "    }\n",
    "  }\n",
    "}\n",
    "\"\"\"\n",
    "launches, rockets = pluck.read_graphql(query, url=SpaceX)"
   ]
  },
  {
   "cell_type": "markdown",
   "metadata": {},
   "source": [
    "Now we have the original `launches` and a new `rockets` data-frame:"
   ]
  },
  {
   "cell_type": "code",
   "execution_count": null,
   "metadata": {},
   "outputs": [],
   "source": [
    "dump(rockets)"
   ]
  },
  {
   "cell_type": "markdown",
   "metadata": {},
   "source": [
    "### Lists\n",
    "\n",
    "When a response includes a list, the data-frame is automatically expanded to include one row per item in the list. This is repeated for every subsequent list in the response.\n",
    "\n",
    "For example, let's query the first five `capsules` and which missions they have been used for:"
   ]
  },
  {
   "cell_type": "code",
   "execution_count": null,
   "metadata": {},
   "outputs": [],
   "source": [
    "query = \"\"\"\n",
    "{\n",
    "  capsules(limit: 5) @frame {\n",
    "    id\n",
    "    type\n",
    "    status\n",
    "    missions {\n",
    "      name\n",
    "    }\n",
    "  }\n",
    "}\n",
    "\"\"\"\n",
    "capsules, = pluck.read_graphql(query, url=SpaceX)\n",
    "dump(capsules)"
   ]
  },
  {
   "cell_type": "markdown",
   "metadata": {},
   "source": [
    "Rather than five rows, we have seven; each row contains a capsule and a mission."
   ]
  },
  {
   "cell_type": "markdown",
   "metadata": {},
   "source": [
    "### Nested @frame directives\n",
    "\n",
    "Frames can also be nested and if a nested `@frame` is within a list, the rows are combined into a single data-frame.\n",
    "\n",
    "For example, we can pluck the top five `cores` and their `missions`:"
   ]
  },
  {
   "cell_type": "code",
   "execution_count": null,
   "metadata": {},
   "outputs": [],
   "source": [
    "query = \"\"\"\n",
    "{\n",
    "  cores(limit: 5) @frame {\n",
    "    id\n",
    "    status\n",
    "    missions @frame {\n",
    "      name\n",
    "      flight\n",
    "    }\n",
    "  }\n",
    "}\n",
    "\"\"\"\n",
    "cores, missions = pluck.read_graphql(query, url=SpaceX)"
   ]
  },
  {
   "cell_type": "markdown",
   "metadata": {},
   "source": [
    "Now we have the `cores`:"
   ]
  },
  {
   "cell_type": "code",
   "execution_count": null,
   "metadata": {},
   "outputs": [],
   "source": [
    "dump(cores)"
   ]
  },
  {
   "cell_type": "markdown",
   "metadata": {},
   "source": [
    "And we also have the `missions` data-frame that has been combined from every item in `cores`:"
   ]
  },
  {
   "cell_type": "code",
   "execution_count": null,
   "metadata": {},
   "outputs": [],
   "source": [
    "dump(missions)"
   ]
  },
  {
   "cell_type": "markdown",
   "metadata": {},
   "source": [
    "### Aliases\n",
    "\n",
    "Column names can be modified using normal GraphQL aliases.\n",
    "\n",
    "For example, let's tidy-up the field names in the `launches` data-frame:"
   ]
  },
  {
   "cell_type": "code",
   "execution_count": null,
   "metadata": {},
   "outputs": [],
   "source": [
    "query = \"\"\"\n",
    "{\n",
    "  launches(limit: 5) @frame {\n",
    "    mission: mission_name\n",
    "    launch_date: launch_date_local\n",
    "    rocket {\n",
    "      name: rocket_name\n",
    "    }\n",
    "  }\n",
    "}\n",
    "\"\"\"\n",
    "launches, = pluck.read_graphql(query, url=SpaceX)\n",
    "dump(launches)"
   ]
  },
  {
   "cell_type": "markdown",
   "metadata": {},
   "source": [
    "### Leaf fields\n",
    "\n",
    "The `@frame` directive can also be used on leaf fields.\n",
    "\n",
    "For example, we can extract only the name of the mission from past launches:"
   ]
  },
  {
   "cell_type": "code",
   "execution_count": null,
   "metadata": {},
   "outputs": [],
   "source": [
    "query = \"\"\"\n",
    "{\n",
    "  launchesPast(limit: 5) {\n",
    "    mission: mission_name @frame\n",
    "  }\n",
    "}\n",
    "\"\"\"\n",
    "launches, = pluck.read_graphql(query, url=SpaceX)\n",
    "dump(launches)"
   ]
  },
  {
   "cell_type": "markdown",
   "metadata": {},
   "source": [
    "### Responses\n",
    "\n",
    "Most of the time, Pluck is used to transform the GraphQL query directly into one or more data-frames. However, it is also possible to retreive the the raw GraphQL response (as well as the data-frames) by not immeadiately iterating over the return value.\n",
    "\n",
    "The return value is a `pluck.Response` object and contains the `data` and `errors` from the raw GraphQL response and map of `Dict[str, DataFrame]` containing each data-frame in the query. The name of the frame corresponds to the field on which the `@frame` directive is placed or `default` when using implicit mode."
   ]
  },
  {
   "cell_type": "code",
   "execution_count": null,
   "metadata": {},
   "outputs": [],
   "source": [
    "query = \"\"\"\n",
    "{\n",
    "  launches(limit: 5) @frame {\n",
    "    id\n",
    "    mission_name\n",
    "    rocket {\n",
    "      rocket_name\n",
    "    }\n",
    "  }\n",
    "  landpads(limit: 5) @frame {\n",
    "    id\n",
    "    full_name\n",
    "    location {\n",
    "      region\n",
    "      latitude\n",
    "      longitude\n",
    "    }\n",
    "  }\n",
    "}\n",
    "\"\"\"\n",
    "response = pluck.read_graphql(query, url=SpaceX)\n",
    "\n",
    "# print(response.data.keys())\n",
    "# print(response.errors)\n",
    "# print(response.frames.keys())\n",
    "\n",
    "launches, landpads = response\n",
    "dump(landpads)"
   ]
  },
  {
   "cell_type": "markdown",
   "metadata": {},
   "source": [
    "### pluck.create\n",
    "\n",
    "Pluck also provides a `create` factory function which returns a customized `read_graphql` function which closes over the `url` and other configuration."
   ]
  },
  {
   "cell_type": "code",
   "execution_count": null,
   "metadata": {},
   "outputs": [],
   "source": [
    "read_graphql = pluck.create(url=SpaceX)\n",
    "\n",
    "query = \"\"\"\n",
    "{\n",
    "  launches(limit: 5) @frame {\n",
    "    id\n",
    "    mission_name\n",
    "    rocket {\n",
    "      rocket_name\n",
    "    }\n",
    "  }\n",
    "  landpads(limit: 5) @frame {\n",
    "    id\n",
    "    full_name\n",
    "    location {\n",
    "      region\n",
    "      latitude\n",
    "      longitude\n",
    "    }\n",
    "  }\n",
    "}\n",
    "\"\"\"\n",
    "launches, landpads = read_graphql(query)"
   ]
  }
 ],
 "metadata": {
  "interpreter": {
   "hash": "21a95c6bcb362342a54a9a1b45d0fa24a1c0b1129c9cbb09db5dc8392645075c"
  },
  "kernelspec": {
   "display_name": "Python 3.9.7 ('pluck')",
   "language": "python",
   "name": "python3"
  },
  "language_info": {
   "codemirror_mode": {
    "name": "ipython",
    "version": 3
   },
   "file_extension": ".py",
   "mimetype": "text/x-python",
   "name": "python",
   "nbconvert_exporter": "python",
   "pygments_lexer": "ipython3",
   "version": "3.9.7"
  },
  "orig_nbformat": 4
 },
 "nbformat": 4,
 "nbformat_minor": 2
}
